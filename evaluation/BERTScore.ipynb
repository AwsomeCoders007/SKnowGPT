{
 "cells": [
  {
   "cell_type": "code",
   "execution_count": null,
   "metadata": {},
   "outputs": [],
   "source": [
    "from evaluate import load\n",
    "import csv\n",
    "import os\n",
    "dir_path = os.getcwd()\n",
    "\n",
    "input_file = '../output/SKnowGPT_MedQA20_output_with_kg_cohere_1shot_idealkg_gpt35.csv'\n",
    "output_file = f'{dir_path}/BERTScore_results/SKnowGPT_MedQA20_output_with_kg_cohere_1shot_idealkg_gpt35_bertscore.csv'\n",
    "\n",
    "bertscore = load(\"bertscore\")\n",
    "\n",
    "with open(input_file,'r',newline=\"\") as f_input , open(output_file, 'a+', newline='') as f_output:\n",
    "  reader = csv.reader(f_input)\n",
    "  writer = csv.writer(f_output)\n",
    "\n",
    "  header = next(reader)\n",
    "  header.extend([\"output1_precision\",\"output1_recall\",\"output1_f1\"])\n",
    "  writer.writerow(header)\n",
    "\n",
    "  for i,row in enumerate(reader):\n",
    "    print('--',i+1,'--')\n",
    "\n",
    "    output1_text = [row[3].strip(\"\\n\")]\n",
    "    \n",
    "    references = [row[2].strip()]\n",
    "    references = [references[0].strip('[]').strip('\\'')]\n",
    "    \n",
    "    results1 = bertscore.compute(predictions=output1_text, references=references, lang=\"en\")\n",
    "      \n",
    "    print(results1[\"precision\"][0],results1[\"recall\"][0],results1[\"f1\"][0])\n",
    "    row.extend([results1[\"precision\"][0],results1[\"recall\"][0],results1[\"f1\"][0]])\n",
    "    writer.writerow(row)\n",
    "    "
   ]
  }
 ],
 "metadata": {
  "kernelspec": {
   "display_name": "testpipreqs2",
   "language": "python",
   "name": "python3"
  },
  "language_info": {
   "codemirror_mode": {
    "name": "ipython",
    "version": 3
   },
   "file_extension": ".py",
   "mimetype": "text/x-python",
   "name": "python",
   "nbconvert_exporter": "python",
   "pygments_lexer": "ipython3",
   "version": "3.9.21"
  }
 },
 "nbformat": 4,
 "nbformat_minor": 2
}
